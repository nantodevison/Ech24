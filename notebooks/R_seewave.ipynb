{
 "cells": [
  {
   "cell_type": "code",
   "execution_count": 1,
   "metadata": {
    "vscode": {
     "languageId": "r"
    }
   },
   "outputs": [],
   "source": [
    "library(seewave)\n",
    "library(tuneR)\n",
    "# library(\"lubridate\")\n",
    "# library(\"magrittr\")"
   ]
  },
  {
   "cell_type": "code",
   "execution_count": 4,
   "metadata": {
    "vscode": {
     "languageId": "r"
    }
   },
   "outputs": [],
   "source": [
    "# Params : frequence d'échantillonage, type d'enregistrement, duree d'analyse\n",
    "f <- 51200\n",
    "channel <- 1\n",
    "periodeEnSeconde <- 360\n",
    "# parcours des donnée et creation d'un dico pour un site de mesure\n",
    "# lister les fichiers\n",
    "dossier <- r\"(\\\\172.22.32.19\\martin_schoreisz\\Echangeur24_BruitRessenti_MesuresAcoustiques\\wav_et_csv\\audio\\sono3_22RueJulesLadoumegue)\"\n",
    "listFichiers <- list.files(dossier)\n",
    "# prerparer export\n",
    "dossierExport <- r\"(C:\\Users\\martin.schoreisz\\Documents\\temp\\BruitRessenti\\TFSD)\"\n",
    "site <- 'JulesLadoumegue'\n",
    "for (fichier in listFichiers){\n",
    "    # ouvrir un fichier\n",
    "    objWave <- readWave(file.path(dossier, fichier))\n",
    "    # découper un fichier\n",
    "    # longueur du ficier en secondes\n",
    "    dureeSeconde <- length(objWave@left) / objWave@samp.rate\n",
    "    #liste des debut et fin de période de 6 minutes\n",
    "    listLimPeriode <- list()\n",
    "    j <- 1\n",
    "    # récupérer les débuts et fin des périodes de 6 minutes\n",
    "    # récupérer les débuts et fin des périodes de 6 minutes, si la mesure fait 6 minutes. Sinon on prend le temp da la période\n",
    "    if (dureeSeconde >= 360){\n",
    "        for (i in 1:dureeSeconde){\n",
    "            if (i%%periodeEnSeconde==0){\n",
    "                listLimPeriode[[j]] <- c(list(i-(periodeEnSeconde-1), i))\n",
    "                j <- j+1\n",
    "            }\n",
    "        }\n",
    "    } else {listLimPeriode[[1]] <- c(list(1, dureeSeconde))}\n",
    "    # nombre de periode de 6 minutes\n",
    "    nbPeriode = length(listLimPeriode)\n",
    "    # calculer le TFSD oiseau pour chaque periode\n",
    "    listTFSD <- c()\n",
    "    listPeriode <- c()\n",
    "    fichierSansExt <- sub(\".wav\", \"\", fichier)\n",
    "    for (i in 1:nbPeriode){\n",
    "        listPeriode <- c(listPeriode, paste(listLimPeriode[[i]][[1]], listLimPeriode[[i]][[2]], sep=\"_\"))\n",
    "        objWaveCut <- cutw(objWave, channel=channel, from=listLimPeriode[[i]][[1]], to=listLimPeriode[[i]][[2]])\n",
    "        listTFSD <- c(listTFSD, round(TFSD(objWaveCut, f=f, channel=channel),2))\n",
    "    }\n",
    "    write.csv(data.frame(periode=listPeriode, tsfd=listTFSD, site=site, fichier=fichierSansExt), file.path(dossierExport, paste(site, '_', fichierSansExt, '.csv', sep='')))\n",
    "}"
   ]
  },
  {
   "cell_type": "code",
   "execution_count": null,
   "metadata": {
    "vscode": {
     "languageId": "r"
    }
   },
   "outputs": [],
   "source": [
    "# Params : frequence d'échantillonage, type d'enregistrement, duree d'analyse\n",
    "f <- 51200\n",
    "channel <- 1\n",
    "periodeEnSeconde <- 360\n",
    "# parcours des donnée et creation d'un dico pour un site de mesure\n",
    "# lister les fichiers\n",
    "dossier <- r\"(\\\\172.22.32.19\\martin_schoreisz\\Echangeur24_BruitRessenti_MesuresAcoustiques\\wav_et_csv\\audio\\sono2_8RueDesNoyers)\"\n",
    "listFichiers <- list.files(dossier)\n",
    "# prerparer export\n",
    "dossierExport <- r\"(C:\\Users\\martin.schoreisz\\Documents\\temp\\BruitRessenti\\TFSD)\"\n",
    "site <- 'Noyers'\n",
    "for (fichier in listFichiers){\n",
    "    # ouvrir un fichier\n",
    "    objWave <- readWave(file.path(dossier, fichier))\n",
    "    # découper un fichier\n",
    "    # longueur du ficier en secondes\n",
    "    dureeSeconde <- length(objWave@left) / objWave@samp.rate\n",
    "    #liste des debut et fin de période de 6 minutes\n",
    "    listLimPeriode <- list()\n",
    "    j <- 1\n",
    "    # récupérer les débuts et fin des périodes de 6 minutes\n",
    "    # récupérer les débuts et fin des périodes de 6 minutes, si la mesure fait 6 minutes. Sinon on prend le temp da la période\n",
    "    if (dureeSeconde >= 360){\n",
    "        for (i in 1:dureeSeconde){\n",
    "            if (i%%periodeEnSeconde==0){\n",
    "                listLimPeriode[[j]] <- c(list(i-(periodeEnSeconde-1), i))\n",
    "                j <- j+1\n",
    "            }\n",
    "        }\n",
    "    } else {listLimPeriode[[1]] <- c(list(1, dureeSeconde))}\n",
    "    # nombre de periode de 6 minutes\n",
    "    nbPeriode = length(listLimPeriode)\n",
    "    # calculer le TFSD oiseau pour chaque periode\n",
    "    listTFSD <- c()\n",
    "    listPeriode <- c()\n",
    "    fichierSansExt <- sub(\".wav\", \"\", fichier)\n",
    "    for (i in 1:nbPeriode){\n",
    "        listPeriode <- c(listPeriode, paste(listLimPeriode[[i]][[1]], listLimPeriode[[i]][[2]], sep=\"_\"))\n",
    "        objWaveCut <- cutw(objWave, channel=channel, from=listLimPeriode[[i]][[1]], to=listLimPeriode[[i]][[2]])\n",
    "        listTFSD <- c(listTFSD, round(TFSD(objWaveCut, f=f, channel=channel),2))\n",
    "    }\n",
    "    write.csv(data.frame(periode=listPeriode, tsfd=listTFSD, site=site, fichier=fichierSansExt), file.path(dossierExport, paste(site, '_', fichierSansExt, '.csv', sep='')))\n",
    "}"
   ]
  },
  {
   "cell_type": "code",
   "execution_count": null,
   "metadata": {
    "vscode": {
     "languageId": "r"
    }
   },
   "outputs": [],
   "source": [
    "# Params : frequence d'échantillonage, type d'enregistrement, duree d'analyse\n",
    "f <- 51200\n",
    "channel <- 1\n",
    "periodeEnSeconde <- 360\n",
    "# parcours des donnée et creation d'un dico pour un site de mesure\n",
    "# lister les fichiers\n",
    "dossier <- r\"(\\\\172.22.32.19\\martin_schoreisz\\Echangeur24_BruitRessenti_MesuresAcoustiques\\wav_et_csv\\audio\\sono1_10RuePierreRonsard)\"\n",
    "listFichiers <- list.files(dossier)\n",
    "# prerparer export\n",
    "dossierExport <- r\"(C:\\Users\\martin.schoreisz\\Documents\\temp\\BruitRessenti\\TFSD)\"\n",
    "site <- 'Ronsard'\n",
    "for (fichier in listFichiers){\n",
    "    # ouvrir un fichier\n",
    "    objWave <- readWave(file.path(dossier, fichier))\n",
    "    # découper un fichier\n",
    "    # longueur du ficier en secondes\n",
    "    dureeSeconde <- length(objWave@left) / objWave@samp.rate\n",
    "    #liste des debut et fin de période de 6 minutes\n",
    "    listLimPeriode <- list()\n",
    "    j <- 1\n",
    "    # récupérer les débuts et fin des périodes de 6 minutes\n",
    "    # récupérer les débuts et fin des périodes de 6 minutes, si la mesure fait 6 minutes. Sinon on prend le temp da la période\n",
    "    if (dureeSeconde >= 360){\n",
    "        for (i in 1:dureeSeconde){\n",
    "            if (i%%periodeEnSeconde==0){\n",
    "                listLimPeriode[[j]] <- c(list(i-(periodeEnSeconde-1), i))\n",
    "                j <- j+1\n",
    "            }\n",
    "        }\n",
    "    } else {listLimPeriode[[1]] <- c(list(1, dureeSeconde))}\n",
    "    # nombre de periode de 6 minutes\n",
    "    nbPeriode = length(listLimPeriode)\n",
    "    # calculer le TFSD oiseau pour chaque periode\n",
    "    listTFSD <- c()\n",
    "    listPeriode <- c()\n",
    "    fichierSansExt <- sub(\".wav\", \"\", fichier)\n",
    "    for (i in 1:nbPeriode){\n",
    "        listPeriode <- c(listPeriode, paste(listLimPeriode[[i]][[1]], listLimPeriode[[i]][[2]], sep=\"_\"))\n",
    "        objWaveCut <- cutw(objWave, channel=channel, from=listLimPeriode[[i]][[1]], to=listLimPeriode[[i]][[2]])\n",
    "        listTFSD <- c(listTFSD, round(TFSD(objWaveCut, f=f, channel=channel),2))\n",
    "    }\n",
    "    write.csv(data.frame(periode=listPeriode, tsfd=listTFSD, site=site, fichier=fichierSansExt), file.path(dossierExport, paste(site, '_', fichierSansExt, '.csv', sep='')))\n",
    "}"
   ]
  },
  {
   "cell_type": "code",
   "execution_count": null,
   "metadata": {
    "vscode": {
     "languageId": "r"
    }
   },
   "outputs": [],
   "source": [
    "# Params : frequence d'échantillonage, type d'enregistrement, duree d'analyse\n",
    "f <- 51200\n",
    "channel <- 1\n",
    "periodeEnSeconde <- 360\n",
    "# parcours des donnée et creation d'un dico pour un site de mesure\n",
    "# lister les fichiers\n",
    "dossier <- r\"(\\\\172.22.32.19\\martin_schoreisz\\Echangeur24_BruitRessenti_MesuresAcoustiques\\wav_et_csv\\audio\\sono4_26RueFrancoisVillon)\"\n",
    "listFichiers <- list.files(dossier)\n",
    "# prerparer export\n",
    "dossierExport <- r\"(C:\\Users\\martin.schoreisz\\Documents\\temp\\BruitRessenti\\TFSD)\"\n",
    "site <- 'Villon'\n",
    "for (fichier in listFichiers){\n",
    "    # ouvrir un fichier\n",
    "    objWave <- readWave(file.path(dossier, fichier))\n",
    "    # découper un fichier\n",
    "    # longueur du ficier en secondes\n",
    "    dureeSeconde <- length(objWave@left) / objWave@samp.rate\n",
    "    #liste des debut et fin de période de 6 minutes\n",
    "    listLimPeriode <- list()\n",
    "    j <- 1\n",
    "    # récupérer les débuts et fin des périodes de 6 minutes\n",
    "    # récupérer les débuts et fin des périodes de 6 minutes, si la mesure fait 6 minutes. Sinon on prend le temp da la période\n",
    "    if (dureeSeconde >= 360){\n",
    "        for (i in 1:dureeSeconde){\n",
    "            if (i%%periodeEnSeconde==0){\n",
    "                listLimPeriode[[j]] <- c(list(i-(periodeEnSeconde-1), i))\n",
    "                j <- j+1\n",
    "            }\n",
    "        }\n",
    "    } else {listLimPeriode[[1]] <- c(list(1, dureeSeconde))}\n",
    "    # nombre de periode de 6 minutes\n",
    "    nbPeriode = length(listLimPeriode)\n",
    "    # calculer le TFSD oiseau pour chaque periode\n",
    "    listTFSD <- c()\n",
    "    listPeriode <- c()\n",
    "    fichierSansExt <- sub(\".wav\", \"\", fichier)\n",
    "    for (i in 1:nbPeriode){\n",
    "        listPeriode <- c(listPeriode, paste(listLimPeriode[[i]][[1]], listLimPeriode[[i]][[2]], sep=\"_\"))\n",
    "        objWaveCut <- cutw(objWave, channel=channel, from=listLimPeriode[[i]][[1]], to=listLimPeriode[[i]][[2]])\n",
    "        listTFSD <- c(listTFSD, round(TFSD(objWaveCut, f=f, channel=channel),2))\n",
    "    }\n",
    "    write.csv(data.frame(periode=listPeriode, tsfd=listTFSD, site=site, fichier=fichierSansExt), file.path(dossierExport, paste(site, '_', fichierSansExt, '.csv', sep='')))\n",
    "}"
   ]
  }
 ],
 "metadata": {
  "kernelspec": {
   "display_name": "R",
   "language": "R",
   "name": "ir"
  },
  "language_info": {
   "codemirror_mode": "r",
   "file_extension": ".r",
   "mimetype": "text/x-r-source",
   "name": "R",
   "pygments_lexer": "r",
   "version": "4.3.1"
  },
  "orig_nbformat": 4
 },
 "nbformat": 4,
 "nbformat_minor": 2
}
