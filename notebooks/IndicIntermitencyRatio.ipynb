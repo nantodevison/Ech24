{
 "cells": [
  {
   "cell_type": "markdown",
   "metadata": {},
   "source": [
    "<h1 style=\"text-align:center;font-size:36px\">INDICATEUR INTERMITENCY RATIO</h1>"
   ]
  },
  {
   "cell_type": "code",
   "execution_count": 19,
   "metadata": {},
   "outputs": [],
   "source": [
    "%load_ext autoreload\n",
    "%autoreload 2\n"
   ]
  },
  {
   "cell_type": "code",
   "execution_count": 46,
   "metadata": {},
   "outputs": [],
   "source": [
    "from math import log10\n",
    "from Expoitation_mesures.Acoustique import recupDonneesAcoustiqueSiteInstru\n",
    "import sys\n",
    "from numpy import heaviside\n",
    "\n",
    "sys.path.append(\n",
    "    r\"C:\\Users\\martin.schoreisz\\Box\\Cerema\\3E-Prod_Env_Risq\\E6-Nuisances\\E61-Acoustique\\60-Etudes_Locales\\2022-BruitRessentiBdxMet\\4-Travaux_en_cours\\donnees_produites\\Codes\\src\"\n",
    ")\n"
   ]
  },
  {
   "cell_type": "code",
   "execution_count": 6,
   "metadata": {},
   "outputs": [],
   "source": [
    "# Premier test sur le calcul à partir des Leq brutes, sur le site rue Jules Ladoumègue\n",
    "dFBrute = recupDonneesAcoustiqueSiteInstru(4)"
   ]
  },
  {
   "cell_type": "code",
   "execution_count": 15,
   "metadata": {},
   "outputs": [],
   "source": [
    "# isoler une heure\n",
    "dFBrute1h = dFBrute.loc[\n",
    "    (dFBrute.date_heure >= \"2022-03-22 13:00:00\")\n",
    "    & (dFBrute.date_heure < \"2022-03-22 14:00:00\")\n",
    "].copy()"
   ]
  },
  {
   "cell_type": "code",
   "execution_count": 58,
   "metadata": {},
   "outputs": [],
   "source": [
    "# LeqTot\n",
    "leqTot1h = 10 * log10(\n",
    "    (1 / len(dFBrute1h)) * sum([pow(10, 0.1 * l) for l in dFBrute1h.leq_a.to_list()])\n",
    ")\n",
    "# seuil\n",
    "C = 3\n",
    "seuil = leqTot1h + C\n",
    "# filtre des évenements\n",
    "dfEvents = dFBrute1h.loc[dFBrute1h.leq_a > seuil]\n",
    "# LeqEvents\n",
    "LeqEvents1h = 10 * log10(\n",
    "    (1 / len(dfEvents)) * sum([(l-seuil) * pow(10, 0.1 * l) for l in dfEvents.leq_a.to_list()])\n",
    ")\n",
    "LeqEvents1h_heavi = 10 * log10(\n",
    "    (1 / len(dFBrute1h)) * sum([heaviside(l-seuil,0) * pow(10, 0.1 * l) for l in dFBrute1h.leq_a.to_list()])\n",
    ")\n",
    "LeqEvents1h_heavi2 = 10 * log10(\n",
    "    (1 / len(dfEvents)) * sum([pow(10, 0.1 * l) for l in dfEvents.leq_a.to_list()])\n",
    ")\n",
    "# IR\n",
    "IR1h  = ((pow(10, 0.1 * LeqEvents1h)/pow(10, 0.1 * leqTot1h))*100) - (pow(10, 0.1 * (LeqEvents1h - leqTot1h)) * 100)\n",
    "IR1h_heavi  = ((pow(10, 0.1 * LeqEvents1h_heavi)/pow(10, 0.1 * leqTot1h))*100) - (pow(10, 0.1 * (LeqEvents1h_heavi - leqTot1h)) * 100)\n",
    "IR1h_heavi2  = ((pow(10, 0.1 * LeqEvents1h_heavi2)/pow(10, 0.1 * leqTot1h))*100) - (pow(10, 0.1 * (LeqEvents1h_heavi2 - leqTot1h)) * 100)"
   ]
  },
  {
   "cell_type": "code",
   "execution_count": 43,
   "metadata": {},
   "outputs": [
    {
     "data": {
      "text/plain": [
       "(260.2977345946804, 260.29773459468043)"
      ]
     },
     "execution_count": 43,
     "metadata": {},
     "output_type": "execute_result"
    }
   ],
   "source": [
    "pow(10, 0.1 * (LeqEvents1h - leqTot1h)) * 100, ((pow(10, 0.1 * LeqEvents1h)/pow(10, 0.1 * leqTot1h))*100)"
   ]
  },
  {
   "cell_type": "code",
   "execution_count": 54,
   "metadata": {},
   "outputs": [
    {
     "data": {
      "text/plain": [
       "(62.70953784508576, 66.8642417291243, 62.909537845085765, 64.4526572696903)"
      ]
     },
     "execution_count": 54,
     "metadata": {},
     "output_type": "execute_result"
    }
   ],
   "source": [
    "leqTot1h, LeqEvents1h, seuil, LeqEvents1h_heavi2"
   ]
  },
  {
   "cell_type": "code",
   "execution_count": 39,
   "metadata": {},
   "outputs": [
    {
     "data": {
      "text/plain": [
       "(1866181.0904174438, 5329829.785469305)"
      ]
     },
     "execution_count": 39,
     "metadata": {},
     "output_type": "execute_result"
    }
   ],
   "source": [
    "pow(10, 0.1 * leqTot1h), pow(10, 0.1 * LeqEvents1h)"
   ]
  },
  {
   "cell_type": "code",
   "execution_count": 60,
   "metadata": {},
   "outputs": [
    {
     "data": {
      "text/plain": [
       "(1.1368683772161603e-13, -8.881784197001252e-15, -3.126388037344441e-13)"
      ]
     },
     "execution_count": 60,
     "metadata": {},
     "output_type": "execute_result"
    }
   ],
   "source": [
    "IR1h, IR1h_heavi, IR1h_heavi2"
   ]
  },
  {
   "cell_type": "code",
   "execution_count": 61,
   "metadata": {},
   "outputs": [
    {
     "data": {
      "text/plain": [
       "252.53488378683872"
      ]
     },
     "execution_count": 61,
     "metadata": {},
     "output_type": "execute_result"
    }
   ],
   "source": [
    "(pow(10, 0.1 * LeqEvents1h_heavi2)/pow(10, 0.1 * leqTot1h))*100"
   ]
  },
  {
   "cell_type": "code",
   "execution_count": null,
   "metadata": {},
   "outputs": [],
   "source": []
  }
 ],
 "metadata": {
  "kernelspec": {
   "display_name": "Python 3",
   "language": "python",
   "name": "python3"
  },
  "language_info": {
   "codemirror_mode": {
    "name": "ipython",
    "version": 3
   },
   "file_extension": ".py",
   "mimetype": "text/x-python",
   "name": "python",
   "nbconvert_exporter": "python",
   "pygments_lexer": "ipython3",
   "version": "3.9.6"
  },
  "orig_nbformat": 4
 },
 "nbformat": 4,
 "nbformat_minor": 2
}
